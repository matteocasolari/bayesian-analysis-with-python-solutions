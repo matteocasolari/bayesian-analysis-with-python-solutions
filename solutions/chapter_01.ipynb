{
 "cells": [
  {
   "cell_type": "markdown",
   "id": "2f04866e-a611-4bc3-90d5-96341e57313c",
   "metadata": {},
   "source": [
    "# Chapter 1: Thinking Probabilistically"
   ]
  },
  {
   "cell_type": "code",
   "execution_count": 1,
   "id": "1fc27a8a-c6ca-4ca8-a819-355830712737",
   "metadata": {},
   "outputs": [],
   "source": [
    "import matplotlib.pyplot as plt\n",
    "import preliz as pz"
   ]
  },
  {
   "cell_type": "markdown",
   "id": "6575ae29-4955-4965-bfbe-49cf4ace0cf9",
   "metadata": {},
   "source": [
    "## Exercise 2"
   ]
  },
  {
   "cell_type": "markdown",
   "id": "b1c4d2a2-875a-436c-87df-2594dd70cdeb",
   "metadata": {},
   "source": [
    "Previously, we defined a Python function P to compute the probability of an event \n",
    "using the naive definition of probability. Generalize that function to compute the\n",
    "probability of events when they are not all equally likely. Use this new function to\n",
    "compute the probability of events 𝐴 and 𝐵 from the previous exercise. Hint: you can\n",
    "pass a third argument with the probability of each event."
   ]
  },
  {
   "cell_type": "code",
   "execution_count": 2,
   "id": "7402b7eb-821b-415c-9616-a4788cfa479d",
   "metadata": {},
   "outputs": [],
   "source": [
    "# Previous function\n",
    "def P(S, A):\n",
    "    if set(A).issubset(set(S)):\n",
    "        return len(A) / len(S)\n",
    "    else:\n",
    "        return 0"
   ]
  },
  {
   "cell_type": "code",
   "execution_count": 3,
   "id": "ff6f0d63-4947-4f1a-80e5-337e9244797e",
   "metadata": {},
   "outputs": [],
   "source": [
    "# Exercise solution\n",
    "def P(sample_space_probas: dict[str, float], events: set):\n",
    "    if events.issubset(sample_space_probas.keys()):\n",
    "        return sum([sample_space_probas[event] for event in events])\n",
    "    else:\n",
    "        return 0\n",
    "\n",
    "sample_space_probas = {\"s\": 0.5, \"b\": 0.25, \"c\": 0.25}"
   ]
  },
  {
   "cell_type": "code",
   "execution_count": 4,
   "id": "ed3c19e2-3a86-4406-83da-c1f7f2b0385f",
   "metadata": {},
   "outputs": [
    {
     "data": {
      "text/plain": [
       "0.5"
      ]
     },
     "execution_count": 4,
     "metadata": {},
     "output_type": "execute_result"
    }
   ],
   "source": [
    "events = {\"s\"}\n",
    "P(sample_space_probas, events)"
   ]
  },
  {
   "cell_type": "code",
   "execution_count": 5,
   "id": "7ca35f0c-4867-4a85-9df9-472598795957",
   "metadata": {},
   "outputs": [
    {
     "data": {
      "text/plain": [
       "0.75"
      ]
     },
     "execution_count": 5,
     "metadata": {},
     "output_type": "execute_result"
    }
   ],
   "source": [
    "events = {\"s\", \"b\"}\n",
    "P(sample_space_probas, events)"
   ]
  },
  {
   "cell_type": "markdown",
   "id": "997c5c86-249d-4adf-bc4d-967a19d51968",
   "metadata": {},
   "source": [
    "## Exercise 7"
   ]
  },
  {
   "cell_type": "code",
   "execution_count": 6,
   "id": "4f2c45cc-cc7d-4e96-b2ed-a97de71ff281",
   "metadata": {},
   "outputs": [],
   "source": [
    "sample_sizes = [10, 100, 1000]"
   ]
  },
  {
   "cell_type": "code",
   "execution_count": null,
   "id": "b7e6f2e1-68bf-4be5-86bd-28e24322e99b",
   "metadata": {},
   "outputs": [],
   "source": []
  },
  {
   "cell_type": "code",
   "execution_count": null,
   "id": "c8d8b8c6-b072-48c5-a7c2-ebc2f0d76bab",
   "metadata": {},
   "outputs": [],
   "source": []
  }
 ],
 "metadata": {
  "kernelspec": {
   "display_name": "Python 3 (ipykernel)",
   "language": "python",
   "name": "python3"
  },
  "language_info": {
   "codemirror_mode": {
    "name": "ipython",
    "version": 3
   },
   "file_extension": ".py",
   "mimetype": "text/x-python",
   "name": "python",
   "nbconvert_exporter": "python",
   "pygments_lexer": "ipython3",
   "version": "3.10.16"
  }
 },
 "nbformat": 4,
 "nbformat_minor": 5
}
